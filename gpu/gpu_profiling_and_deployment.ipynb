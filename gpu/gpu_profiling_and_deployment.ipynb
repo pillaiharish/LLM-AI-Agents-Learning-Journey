{
  "nbformat": 4,
  "nbformat_minor": 0,
  "metadata": {
    "colab": {
      "provenance": [],
      "gpuType": "T4"
    },
    "kernelspec": {
      "name": "python3",
      "display_name": "Python 3"
    },
    "language_info": {
      "name": "python"
    },
    "accelerator": "GPU"
  },
  "cells": [
    {
      "cell_type": "markdown",
      "source": [
        "# GPU & LLM Deployment on Colab: From Zero to Practical\n",
        "Safe for free Colab (T4/L4/A100 when available)."
      ],
      "metadata": {
        "id": "iGFNWD_y_Qwk"
      }
    },
    {
      "cell_type": "markdown",
      "source": [
        "## 0) GPU Runtime Check & Basics"
      ],
      "metadata": {
        "id": "7LqpjRTo_bEI"
      }
    },
    {
      "cell_type": "code",
      "source": [
        "import torch, platform, os, textwrap, subprocess, sys\n",
        "print(\"Python:\", sys.version)\n",
        "print(\"Pytorch\", torch.__version__)\n",
        "print(\"CUDA available:\", torch.cuda.is_available)"
      ],
      "metadata": {
        "colab": {
          "base_uri": "https://localhost:8080/"
        },
        "id": "itkjLyMB_EyO",
        "outputId": "fbf4a39c-fd45-4c73-fd6d-2c0a466febcf"
      },
      "execution_count": 1,
      "outputs": [
        {
          "output_type": "stream",
          "name": "stdout",
          "text": [
            "Python: 3.12.11 (main, Jun  4 2025, 08:56:18) [GCC 11.4.0]\n",
            "Pytorch 2.8.0+cu126\n",
            "CUDA available: <function is_available at 0x7cb1fff24040>\n"
          ]
        }
      ]
    },
    {
      "cell_type": "code",
      "source": [
        "if torch.cuda.is_available():\n",
        "  print(\"GPU count\", torch.cuda.device_count())\n",
        "  print(\"GPU name:\", torch.cuda.get_device_name(0))\n",
        "  !nvidia-smi || true\n",
        "else:\n",
        "  print(\"No GPU detected\")\n"
      ],
      "metadata": {
        "colab": {
          "base_uri": "https://localhost:8080/"
        },
        "id": "UuLzvok8_gkp",
        "outputId": "705f3a2e-2b73-4b2e-c18c-2571cc50a8de"
      },
      "execution_count": 2,
      "outputs": [
        {
          "output_type": "stream",
          "name": "stdout",
          "text": [
            "GPU count 1\n",
            "GPU name: Tesla T4\n",
            "Sun Sep  7 07:10:55 2025       \n",
            "+-----------------------------------------------------------------------------------------+\n",
            "| NVIDIA-SMI 550.54.15              Driver Version: 550.54.15      CUDA Version: 12.4     |\n",
            "|-----------------------------------------+------------------------+----------------------+\n",
            "| GPU  Name                 Persistence-M | Bus-Id          Disp.A | Volatile Uncorr. ECC |\n",
            "| Fan  Temp   Perf          Pwr:Usage/Cap |           Memory-Usage | GPU-Util  Compute M. |\n",
            "|                                         |                        |               MIG M. |\n",
            "|=========================================+========================+======================|\n",
            "|   0  Tesla T4                       Off |   00000000:00:04.0 Off |                    0 |\n",
            "| N/A   51C    P8             10W /   70W |       2MiB /  15360MiB |      0%      Default |\n",
            "|                                         |                        |                  N/A |\n",
            "+-----------------------------------------+------------------------+----------------------+\n",
            "                                                                                         \n",
            "+-----------------------------------------------------------------------------------------+\n",
            "| Processes:                                                                              |\n",
            "|  GPU   GI   CI        PID   Type   Process name                              GPU Memory |\n",
            "|        ID   ID                                                               Usage      |\n",
            "|=========================================================================================|\n",
            "|  No running processes found                                                             |\n",
            "+-----------------------------------------------------------------------------------------+\n"
          ]
        }
      ]
    },
    {
      "cell_type": "markdown",
      "source": [
        "## 1) Install Core Libraries\n",
        "- `transformers`, `accelerate` for LLMs\n",
        "- `bitsandbytes` for 8-bit/4-bit loading (VRAM savings)\n",
        "- `datasets` for toy tasks"
      ],
      "metadata": {
        "id": "-ADwzWo7Cirl"
      }
    },
    {
      "cell_type": "code",
      "source": [
        "%%bash\n",
        "pip -q install --upgrade transformers accelerate bitsandbytes datasets sentencepiece\n",
        "python - << 'PY'\n",
        "import torch, sys\n",
        "print(\"Torch:\", torch.__version__)\n",
        "print(\"CUDA:\", torch.version.cuda if hasattr(torch.version, \"cuda\") else None)\n",
        "print(\"Is CUDA available:\", torch.cuda.is_available())\n",
        "PY"
      ],
      "metadata": {
        "colab": {
          "base_uri": "https://localhost:8080/"
        },
        "id": "U5VFYnHaChNJ",
        "outputId": "f0d04ee4-25d4-4f49-99b1-31144f4710cc"
      },
      "execution_count": 3,
      "outputs": [
        {
          "output_type": "stream",
          "name": "stdout",
          "text": [
            "     ━━━━━━━━━━━━━━━━━━━━━━━━━━━━━━━━━━━━━━━━ 42.2/42.2 kB 2.3 MB/s eta 0:00:00\n",
            "   ━━━━━━━━━━━━━━━━━━━━━━━━━━━━━━━━━━━━━━━━ 11.6/11.6 MB 120.4 MB/s eta 0:00:00\n",
            "   ━━━━━━━━━━━━━━━━━━━━━━━━━━━━━━━━━━━━━━━━ 61.3/61.3 MB 13.1 MB/s eta 0:00:00\n",
            "Torch: 2.8.0+cu126\n",
            "CUDA: 12.6\n",
            "Is CUDA available: True\n"
          ]
        }
      ]
    },
    {
      "cell_type": "code",
      "source": [],
      "metadata": {
        "id": "ZmMfGn2vE1it"
      },
      "execution_count": null,
      "outputs": []
    },
    {
      "cell_type": "code",
      "source": [],
      "metadata": {
        "id": "nmtEsqGV_Sn_"
      },
      "execution_count": null,
      "outputs": []
    }
  ]
}