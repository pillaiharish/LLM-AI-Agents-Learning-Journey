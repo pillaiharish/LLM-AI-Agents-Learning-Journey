{
  "nbformat": 4,
  "nbformat_minor": 0,
  "metadata": {
    "colab": {
      "provenance": [],
      "gpuType": "T4"
    },
    "kernelspec": {
      "name": "python3",
      "display_name": "Python 3"
    },
    "language_info": {
      "name": "python"
    },
    "accelerator": "GPU"
  },
  "cells": [
    {
      "cell_type": "markdown",
      "source": [
        "# GPU & LLM Deployment on Colab: From Zero to Practical\n",
        "Safe for free Colab (T4/L4/A100 when available)."
      ],
      "metadata": {
        "id": "iGFNWD_y_Qwk"
      }
    },
    {
      "cell_type": "markdown",
      "source": [
        "## 0) GPU Runtime Check & Basics"
      ],
      "metadata": {
        "id": "7LqpjRTo_bEI"
      }
    },
    {
      "cell_type": "code",
      "source": [
        "import torch, platform, os, textwrap, subprocess, sys\n",
        "print(\"Python:\", sys.version)\n",
        "print(\"Pytorch\", torch.__version__)\n",
        "print(\"CUDA available:\", torch.cuda.is_available)"
      ],
      "metadata": {
        "colab": {
          "base_uri": "https://localhost:8080/"
        },
        "id": "itkjLyMB_EyO",
        "outputId": "0d1a594d-dc8d-4eb1-a8b0-cd934eaa22c2"
      },
      "execution_count": 1,
      "outputs": [
        {
          "output_type": "stream",
          "name": "stdout",
          "text": [
            "Python: 3.12.11 (main, Jun  4 2025, 08:56:18) [GCC 11.4.0]\n",
            "Pytorch 2.8.0+cu126\n",
            "CUDA available: <function is_available at 0x7ac5fcd980e0>\n"
          ]
        }
      ]
    },
    {
      "cell_type": "code",
      "source": [
        "if torch.cuda.is_available():\n",
        "  print(\"GPU count\", torch.cuda.device_count())\n",
        "  print(\"GPU name:\", torch.cuda.get_device_name(0))\n",
        "  !nvidia-smi || true\n",
        "else:\n",
        "  print(\"No GPU detected\")\n"
      ],
      "metadata": {
        "colab": {
          "base_uri": "https://localhost:8080/"
        },
        "id": "UuLzvok8_gkp",
        "outputId": "d735e6d0-148a-4810-dcdf-f62a3d5c1f13"
      },
      "execution_count": 3,
      "outputs": [
        {
          "output_type": "stream",
          "name": "stdout",
          "text": [
            "GPU count 1\n",
            "GPU name: Tesla T4\n",
            "Sun Sep  7 14:33:50 2025       \n",
            "+-----------------------------------------------------------------------------------------+\n",
            "| NVIDIA-SMI 550.54.15              Driver Version: 550.54.15      CUDA Version: 12.4     |\n",
            "|-----------------------------------------+------------------------+----------------------+\n",
            "| GPU  Name                 Persistence-M | Bus-Id          Disp.A | Volatile Uncorr. ECC |\n",
            "| Fan  Temp   Perf          Pwr:Usage/Cap |           Memory-Usage | GPU-Util  Compute M. |\n",
            "|                                         |                        |               MIG M. |\n",
            "|=========================================+========================+======================|\n",
            "|   0  Tesla T4                       Off |   00000000:00:04.0 Off |                    0 |\n",
            "| N/A   65C    P8             11W /   70W |       2MiB /  15360MiB |      0%      Default |\n",
            "|                                         |                        |                  N/A |\n",
            "+-----------------------------------------+------------------------+----------------------+\n",
            "                                                                                         \n",
            "+-----------------------------------------------------------------------------------------+\n",
            "| Processes:                                                                              |\n",
            "|  GPU   GI   CI        PID   Type   Process name                              GPU Memory |\n",
            "|        ID   ID                                                               Usage      |\n",
            "|=========================================================================================|\n",
            "|  No running processes found                                                             |\n",
            "+-----------------------------------------------------------------------------------------+\n"
          ]
        }
      ]
    },
    {
      "cell_type": "markdown",
      "source": [
        "## 1) Install Core Libraries\n",
        "- `transformers`, `accelerate` for LLMs\n",
        "- `bitsandbytes` for 8-bit/4-bit loading (VRAM savings)\n",
        "- `datasets` for toy tasks"
      ],
      "metadata": {
        "id": "-ADwzWo7Cirl"
      }
    },
    {
      "cell_type": "code",
      "source": [
        "%%bash\n",
        "pip -q install --upgrade transformers accelerate bitsandbytes datasets sentencepiece\n",
        "python - << 'PY'\n",
        "import torch, sys\n",
        "print(\"Torch:\", torch.__version__)\n",
        "print(\"CUDA:\", torch.version.cuda if hasattr(torch.version, \"cuda\") else None)\n",
        "print(\"Is CUDA available:\", torch.cuda.is_available())\n",
        "PY"
      ],
      "metadata": {
        "colab": {
          "base_uri": "https://localhost:8080/"
        },
        "id": "U5VFYnHaChNJ",
        "outputId": "683aaba7-c9d9-4f34-91f9-685b9477c677"
      },
      "execution_count": 4,
      "outputs": [
        {
          "output_type": "stream",
          "name": "stdout",
          "text": [
            "     ━━━━━━━━━━━━━━━━━━━━━━━━━━━━━━━━━━━━━━━━ 42.2/42.2 kB 4.3 MB/s eta 0:00:00\n",
            "   ━━━━━━━━━━━━━━━━━━━━━━━━━━━━━━━━━━━━━━━━ 11.6/11.6 MB 72.5 MB/s eta 0:00:00\n",
            "   ━━━━━━━━━━━━━━━━━━━━━━━━━━━━━━━━━━━━━━━━ 61.3/61.3 MB 16.2 MB/s eta 0:00:00\n",
            "Torch: 2.8.0+cu126\n",
            "CUDA: 12.6\n",
            "Is CUDA available: True\n"
          ]
        }
      ]
    },
    {
      "cell_type": "markdown",
      "source": [
        "## 2) PyTorch on GPU: Tensors, Memory, and Speed"
      ],
      "metadata": {
        "id": "dYqYxEr4mDNi"
      }
    },
    {
      "cell_type": "code",
      "source": [
        "import torch, time\n",
        "device = \"cuda\" if torch.cuda.is_available() else \"cpu\"\n",
        "print(\"Using device: \", device)\n",
        "\n",
        "# Allocate big tensors on CPU vs GPU and measure speed\n",
        "N = 4096\n",
        "# torch.randn(N, N) function in PyTorch creates a square tensor of size N x N filled with random\n",
        "# numbers. These random numbers are drawn from a standard normal distribution,\n",
        "# meaning they have a mean of 0 and a variance of 1.\n",
        "a_cpu = torch.randn(N,N)\n",
        "b_cpu = torch.randn(N,N)\n",
        "\n",
        "start = time.time()\n",
        "#c_cpu = torch.matmul(a_cpu, b_cpu)\n",
        "c_cpu = a_cpu @ b_cpu\n",
        "end = time.time()\n",
        "cpu_time = end - start\n",
        "print(\"CPU time:\", cpu_time)\n"
      ],
      "metadata": {
        "id": "ZmMfGn2vE1it",
        "colab": {
          "base_uri": "https://localhost:8080/"
        },
        "outputId": "d3afdfcc-8ea0-476c-bae1-d7b64aceb7fb"
      },
      "execution_count": 10,
      "outputs": [
        {
          "output_type": "stream",
          "name": "stdout",
          "text": [
            "Using device:  cuda\n",
            "CPU time: 2.9028379917144775\n"
          ]
        }
      ]
    },
    {
      "cell_type": "code",
      "source": [
        "if torch.cuda.is_available():\n",
        "  a_gpu = a_cpu.to(device, non_blocking=True)\n",
        "  b_gpu = b_cpu.to(device, non_blocking=True)\n",
        "  torch.cuda.synchronize()\n",
        "  start = time.time()\n",
        "  c_gpu = a_gpu @ b_gpu\n",
        "  torch.cuda.synchronize()\n",
        "  gpu_time = time.time() - start\n",
        "  print(f\"Matrix multiplication time CPU: {cpu_time} | GPU: {gpu_time}\")\n",
        "else:\n",
        "  print(f\"Matrix multiplication time CPU: {cpu_time} | GPU: N/A\")"
      ],
      "metadata": {
        "colab": {
          "base_uri": "https://localhost:8080/"
        },
        "id": "-OITHhxup6g4",
        "outputId": "58db3fe3-6b0f-45cb-f53a-01cce9fb1122"
      },
      "execution_count": 11,
      "outputs": [
        {
          "output_type": "stream",
          "name": "stdout",
          "text": [
            "Matrix multiplication time CPU: 2.9028379917144775 | GPU: 0.14554810523986816\n"
          ]
        }
      ]
    },
    {
      "cell_type": "code",
      "source": [],
      "metadata": {
        "id": "nmtEsqGV_Sn_"
      },
      "execution_count": null,
      "outputs": []
    }
  ]
}